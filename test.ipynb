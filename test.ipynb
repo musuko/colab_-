{
  "nbformat": 4,
  "nbformat_minor": 0,
  "metadata": {
    "colab": {
      "provenance": [],
      "authorship_tag": "ABX9TyOaWg7hSjo1UunXL6JY/K1X",
      "include_colab_link": true
    },
    "kernelspec": {
      "name": "python3",
      "display_name": "Python 3"
    },
    "language_info": {
      "name": "python"
    }
  },
  "cells": [
    {
      "cell_type": "markdown",
      "metadata": {
        "id": "view-in-github",
        "colab_type": "text"
      },
      "source": [
        "<a href=\"https://colab.research.google.com/github/musuko/colab_-/blob/main/test.ipynb\" target=\"_parent\"><img src=\"https://colab.research.google.com/assets/colab-badge.svg\" alt=\"Open In Colab\"/></a>"
      ]
    },
    {
      "cell_type": "code",
      "source": [
        "a = 2\n",
        "b = 8\n",
        "c =a + b\n",
        "print(c)"
      ],
      "metadata": {
        "colab": {
          "base_uri": "https://localhost:8080/"
        },
        "id": "UeEKol-228bX",
        "outputId": "2106f4a1-c1a7-48d0-e48a-af62a4d03d4a"
      },
      "execution_count": null,
      "outputs": [
        {
          "output_type": "stream",
          "name": "stdout",
          "text": [
            "10\n"
          ]
        }
      ]
    },
    {
      "cell_type": "code",
      "source": [
        "!pip install statsmodels==0.13.5\n",
        "import pandas as pd\n",
        "import statsmodels.formula.api as sm\n",
        "from google.colab import drive\n",
        "drive.mount('/content/drive')\n",
        "df = pd.read_csv('/content/drive/My Drive/Colab Notebooks/powerdemand_data4.csv')\n",
        "model = sm.ols('power ~ daytype + temp + sola + humid', data=df)\n",
        "results = model.fit()\n",
        "print(results.summary())\n"
      ],
      "metadata": {
        "colab": {
          "base_uri": "https://localhost:8080/"
        },
        "id": "61WzUpVZ58oJ",
        "outputId": "8abe1225-9bc8-41fd-9901-808141f3cb84"
      },
      "execution_count": null,
      "outputs": [
        {
          "output_type": "stream",
          "name": "stdout",
          "text": [
            "Collecting statsmodels==0.13.5\n",
            "  Downloading statsmodels-0.13.5-cp310-cp310-manylinux_2_17_x86_64.manylinux2014_x86_64.whl.metadata (9.5 kB)\n",
            "Requirement already satisfied: pandas>=0.25 in /usr/local/lib/python3.10/dist-packages (from statsmodels==0.13.5) (2.1.4)\n",
            "Requirement already satisfied: patsy>=0.5.2 in /usr/local/lib/python3.10/dist-packages (from statsmodels==0.13.5) (0.5.6)\n",
            "Requirement already satisfied: packaging>=21.3 in /usr/local/lib/python3.10/dist-packages (from statsmodels==0.13.5) (24.1)\n",
            "Requirement already satisfied: scipy>=1.3 in /usr/local/lib/python3.10/dist-packages (from statsmodels==0.13.5) (1.13.1)\n",
            "Requirement already satisfied: numpy>=1.17 in /usr/local/lib/python3.10/dist-packages (from statsmodels==0.13.5) (1.26.4)\n",
            "Requirement already satisfied: python-dateutil>=2.8.2 in /usr/local/lib/python3.10/dist-packages (from pandas>=0.25->statsmodels==0.13.5) (2.8.2)\n",
            "Requirement already satisfied: pytz>=2020.1 in /usr/local/lib/python3.10/dist-packages (from pandas>=0.25->statsmodels==0.13.5) (2024.2)\n",
            "Requirement already satisfied: tzdata>=2022.1 in /usr/local/lib/python3.10/dist-packages (from pandas>=0.25->statsmodels==0.13.5) (2024.1)\n",
            "Requirement already satisfied: six in /usr/local/lib/python3.10/dist-packages (from patsy>=0.5.2->statsmodels==0.13.5) (1.16.0)\n",
            "Downloading statsmodels-0.13.5-cp310-cp310-manylinux_2_17_x86_64.manylinux2014_x86_64.whl (9.9 MB)\n",
            "\u001b[2K   \u001b[90m━━━━━━━━━━━━━━━━━━━━━━━━━━━━━━━━━━━━━━━━\u001b[0m \u001b[32m9.9/9.9 MB\u001b[0m \u001b[31m22.2 MB/s\u001b[0m eta \u001b[36m0:00:00\u001b[0m\n",
            "\u001b[?25hInstalling collected packages: statsmodels\n",
            "  Attempting uninstall: statsmodels\n",
            "    Found existing installation: statsmodels 0.14.2\n",
            "    Uninstalling statsmodels-0.14.2:\n",
            "      Successfully uninstalled statsmodels-0.14.2\n",
            "\u001b[31mERROR: pip's dependency resolver does not currently take into account all the packages that are installed. This behaviour is the source of the following dependency conflicts.\n",
            "plotnine 0.12.4 requires statsmodels>=0.14.0, but you have statsmodels 0.13.5 which is incompatible.\u001b[0m\u001b[31m\n",
            "\u001b[0mSuccessfully installed statsmodels-0.13.5\n",
            "Mounted at /content/drive\n",
            "                            OLS Regression Results                            \n",
            "==============================================================================\n",
            "Dep. Variable:                  power   R-squared:                       0.790\n",
            "Model:                            OLS   Adj. R-squared:                  0.774\n",
            "Method:                 Least Squares   F-statistic:                     50.73\n",
            "Date:                Sat, 14 Sep 2024   Prob (F-statistic):           1.15e-17\n",
            "Time:                        23:42:03   Log-Likelihood:                -196.28\n",
            "No. Observations:                  59   AIC:                             402.6\n",
            "Df Residuals:                      54   BIC:                             412.9\n",
            "Df Model:                           4                                         \n",
            "Covariance Type:            nonrobust                                         \n",
            "==============================================================================\n",
            "                 coef    std err          t      P>|t|      [0.025      0.975]\n",
            "------------------------------------------------------------------------------\n",
            "Intercept     40.7741      5.946      6.858      0.000      28.854      52.695\n",
            "daytype       15.5420      1.259     12.346      0.000      13.018      18.066\n",
            "temp          -1.0083      0.217     -4.644      0.000      -1.444      -0.573\n",
            "sola          -7.0917      2.211     -3.207      0.002     -11.525      -2.659\n",
            "humid         -0.2532      0.082     -3.081      0.003      -0.418      -0.088\n",
            "==============================================================================\n",
            "Omnibus:                        2.681   Durbin-Watson:                   1.279\n",
            "Prob(Omnibus):                  0.262   Jarque-Bera (JB):                1.550\n",
            "Skew:                          -0.059   Prob(JB):                        0.461\n",
            "Kurtosis:                       2.215   Cond. No.                         329.\n",
            "==============================================================================\n",
            "\n",
            "Notes:\n",
            "[1] Standard Errors assume that the covariance matrix of the errors is correctly specified.\n"
          ]
        }
      ]
    },
    {
      "cell_type": "code",
      "source": [
        "from pulp import *\n",
        "\n",
        "# 問題の設定\n",
        "prob = LpProblem(\"max_profit\", LpMaximize)\n",
        "\n",
        "# 変数の定義\n",
        "x = LpVariable(\"x\", lowBound=0, cat=\"Integer\")  # チョコアイスの生産個数\n",
        "y = LpVariable(\"y\", lowBound=0, cat=\"Integer\")  # チョコケーキの生産個数\n",
        "\n",
        "# パラメータの設定\n",
        "uei = 60   # チョコアイスに必要な卵の質量\n",
        "uec = 120  # チョコケーキに必要な卵の質量\n",
        "uci = 50   # チョコアイスに必要なチョコレートの質量\n",
        "ucc = 30   # チョコケーキに必要なチョコレートの質量\n",
        "uwi = 70   # チョコアイスに必要な小麦粉の質量\n",
        "uwc = 130  # チョコケーキに必要な小麦粉の質量\n",
        "se = 18000  # 卵の在庫\n",
        "sc = 10000  # チョコレートの在庫\n",
        "sw = 14000  # 小麦粉の在庫\n",
        "px = 300  # チョコアイスの販売価格\n",
        "py = 500  # チョコケーキの販売価格\n",
        "\n",
        "# 目的関数の設定\n",
        "prob += px * x + py * y\n",
        "\n",
        "# 制約条件の設定\n",
        "prob += uei * x + uec * y <= se  # 卵の制約\n",
        "prob += uci * x + ucc * y <= sc  # チョコレートの制約\n",
        "prob += uwi * x + uwc * y <= sw  # 小麦粉の制約\n",
        "\n",
        "# 問題を解く\n",
        "prob.solve()\n",
        "\n",
        "# 結果の表示\n",
        "print(\"Status:\", LpStatus[prob.status])\n",
        "print(\"チョコアイスの生産個数:\", value(x))\n",
        "print(\"チョコケーキの生産個数:\", value(y))\n",
        "print(\"最大利益:\", value(prob.objective))"
      ],
      "metadata": {
        "colab": {
          "base_uri": "https://localhost:8080/",
          "height": 388
        },
        "id": "pFY-CxE0_MM5",
        "outputId": "c3ec154a-a9b4-4e05-cf97-a0436e35d2df"
      },
      "execution_count": null,
      "outputs": [
        {
          "output_type": "error",
          "ename": "ModuleNotFoundError",
          "evalue": "No module named 'pulp'",
          "traceback": [
            "\u001b[0;31m---------------------------------------------------------------------------\u001b[0m",
            "\u001b[0;31mModuleNotFoundError\u001b[0m                       Traceback (most recent call last)",
            "\u001b[0;32m<ipython-input-3-9c5a5df4f644>\u001b[0m in \u001b[0;36m<cell line: 1>\u001b[0;34m()\u001b[0m\n\u001b[0;32m----> 1\u001b[0;31m \u001b[0;32mfrom\u001b[0m \u001b[0mpulp\u001b[0m \u001b[0;32mimport\u001b[0m \u001b[0;34m*\u001b[0m\u001b[0;34m\u001b[0m\u001b[0;34m\u001b[0m\u001b[0m\n\u001b[0m\u001b[1;32m      2\u001b[0m \u001b[0;34m\u001b[0m\u001b[0m\n\u001b[1;32m      3\u001b[0m \u001b[0;31m# 問題の設定\u001b[0m\u001b[0;34m\u001b[0m\u001b[0;34m\u001b[0m\u001b[0m\n\u001b[1;32m      4\u001b[0m \u001b[0mprob\u001b[0m \u001b[0;34m=\u001b[0m \u001b[0mLpProblem\u001b[0m\u001b[0;34m(\u001b[0m\u001b[0;34m\"max_profit\"\u001b[0m\u001b[0;34m,\u001b[0m \u001b[0mLpMaximize\u001b[0m\u001b[0;34m)\u001b[0m\u001b[0;34m\u001b[0m\u001b[0;34m\u001b[0m\u001b[0m\n\u001b[1;32m      5\u001b[0m \u001b[0;34m\u001b[0m\u001b[0m\n",
            "\u001b[0;31mModuleNotFoundError\u001b[0m: No module named 'pulp'",
            "",
            "\u001b[0;31m---------------------------------------------------------------------------\u001b[0;32m\nNOTE: If your import is failing due to a missing package, you can\nmanually install dependencies using either !pip or !apt.\n\nTo view examples of installing some common dependencies, click the\n\"Open Examples\" button below.\n\u001b[0;31m---------------------------------------------------------------------------\u001b[0m\n"
          ],
          "errorDetails": {
            "actions": [
              {
                "action": "open_url",
                "actionText": "Open Examples",
                "url": "/notebooks/snippets/importing_libraries.ipynb"
              }
            ]
          }
        }
      ]
    },
    {
      "cell_type": "markdown",
      "source": [],
      "metadata": {
        "id": "wKRtPsqKCvTZ"
      }
    },
    {
      "cell_type": "code",
      "source": [
        "# 最適化ライブラリーPuLP のインストール\n",
        "!pip install pulp"
      ],
      "metadata": {
        "colab": {
          "base_uri": "https://localhost:8080/"
        },
        "id": "w6oVs3u3FrA_",
        "outputId": "366c413f-55ef-45db-bb07-db77e4413c1d"
      },
      "execution_count": null,
      "outputs": [
        {
          "output_type": "stream",
          "name": "stdout",
          "text": [
            "Collecting pulp\n",
            "  Downloading PuLP-2.9.0-py3-none-any.whl.metadata (5.4 kB)\n",
            "Downloading PuLP-2.9.0-py3-none-any.whl (17.7 MB)\n",
            "\u001b[2K   \u001b[90m━━━━━━━━━━━━━━━━━━━━━━━━━━━━━━━━━━━━━━━━\u001b[0m \u001b[32m17.7/17.7 MB\u001b[0m \u001b[31m67.9 MB/s\u001b[0m eta \u001b[36m0:00:00\u001b[0m\n",
            "\u001b[?25hInstalling collected packages: pulp\n",
            "Successfully installed pulp-2.9.0\n"
          ]
        }
      ]
    },
    {
      "cell_type": "code",
      "source": [
        "from pulp import *\n",
        "\n",
        "# 問題の定義\n",
        "prob = LpProblem(\"MaxProfit\", LpMaximize)\n",
        "\n",
        "# 変数の定義\n",
        "x = LpVariable(\"x\", lowBound=0, cat=\"Integer\")\n",
        "y = LpVariable(\"y\", lowBound=0, cat=\"Integer\")\n",
        "\n",
        "# パラメータの設定\n",
        "uei = 60\n",
        "uec = 120\n",
        "uci = 50\n",
        "ucc = 30\n",
        "uwi = 70\n",
        "uwc = 130\n",
        "se = 18000\n",
        "sc = 10000\n",
        "sw = 20000\n",
        "pi = 200\n",
        "pc = 300\n",
        "\n",
        "# 目的関数の設定\n",
        "prob += pi * x + pc * y, \"Profit\"\n",
        "\n",
        "# 制約条件の設定\n",
        "prob += uei * x + uec * y <= se, \"egg\"\n",
        "prob += uci * x + ucc * y <= sc, \"chocolate\"\n",
        "prob += uwi * x + uwc * y <= sw, \"wheat\"\n",
        "\n",
        "# 問題を解く\n",
        "prob.solve()\n",
        "\n",
        "# 結果を表示\n",
        "print(\"Status:\", LpStatus[prob.status])\n",
        "for v in prob.variables():\n",
        "    print(v.name, \"=\", v.varValue)\n",
        "print(\"最大売上:\", value(prob.objective))"
      ],
      "metadata": {
        "colab": {
          "base_uri": "https://localhost:8080/"
        },
        "id": "yJ4JJ_ZTGABl",
        "outputId": "5c157685-089f-46e4-b29a-26171bc2c6ed"
      },
      "execution_count": null,
      "outputs": [
        {
          "output_type": "stream",
          "name": "stdout",
          "text": [
            "Status: Optimal\n",
            "x = 159.0\n",
            "y = 68.0\n",
            "最大売上: 52200.0\n"
          ]
        }
      ]
    },
    {
      "cell_type": "code",
      "source": [
        "!pip install statsmodels==0.13.5\n",
        "\n",
        "import pandas as pd\n",
        "import statsmodels.formula.api as sm\n",
        "\n",
        "from google.colab import drive\n",
        "drive.mount('/content/drive')\n",
        "\n",
        "df = pd.read_csv('/content/drive/My Drive/Colab Notebooks/powerdemand_data4.csv')\n",
        "\n",
        "model = sm.ols('power ~ daytype + temp + sola + humid', data=df)\n",
        "\n",
        "results = model.fit()\n",
        "\n",
        "print(results.summary())"
      ],
      "metadata": {
        "colab": {
          "base_uri": "https://localhost:8080/"
        },
        "id": "K_ycojjuKGV3",
        "outputId": "63cb9319-99d1-4ef1-c9a2-6d4e2bc38eb3"
      },
      "execution_count": null,
      "outputs": [
        {
          "output_type": "stream",
          "name": "stdout",
          "text": [
            "Requirement already satisfied: statsmodels==0.13.5 in /usr/local/lib/python3.10/dist-packages (0.13.5)\n",
            "Requirement already satisfied: pandas>=0.25 in /usr/local/lib/python3.10/dist-packages (from statsmodels==0.13.5) (2.1.4)\n",
            "Requirement already satisfied: patsy>=0.5.2 in /usr/local/lib/python3.10/dist-packages (from statsmodels==0.13.5) (0.5.6)\n",
            "Requirement already satisfied: packaging>=21.3 in /usr/local/lib/python3.10/dist-packages (from statsmodels==0.13.5) (24.1)\n",
            "Requirement already satisfied: scipy>=1.3 in /usr/local/lib/python3.10/dist-packages (from statsmodels==0.13.5) (1.13.1)\n",
            "Requirement already satisfied: numpy>=1.17 in /usr/local/lib/python3.10/dist-packages (from statsmodels==0.13.5) (1.26.4)\n",
            "Requirement already satisfied: python-dateutil>=2.8.2 in /usr/local/lib/python3.10/dist-packages (from pandas>=0.25->statsmodels==0.13.5) (2.8.2)\n",
            "Requirement already satisfied: pytz>=2020.1 in /usr/local/lib/python3.10/dist-packages (from pandas>=0.25->statsmodels==0.13.5) (2024.2)\n",
            "Requirement already satisfied: tzdata>=2022.1 in /usr/local/lib/python3.10/dist-packages (from pandas>=0.25->statsmodels==0.13.5) (2024.1)\n",
            "Requirement already satisfied: six in /usr/local/lib/python3.10/dist-packages (from patsy>=0.5.2->statsmodels==0.13.5) (1.16.0)\n",
            "Drive already mounted at /content/drive; to attempt to forcibly remount, call drive.mount(\"/content/drive\", force_remount=True).\n",
            "                            OLS Regression Results                            \n",
            "==============================================================================\n",
            "Dep. Variable:                  power   R-squared:                       0.790\n",
            "Model:                            OLS   Adj. R-squared:                  0.774\n",
            "Method:                 Least Squares   F-statistic:                     50.73\n",
            "Date:                Sun, 15 Sep 2024   Prob (F-statistic):           1.15e-17\n",
            "Time:                        00:50:15   Log-Likelihood:                -196.28\n",
            "No. Observations:                  59   AIC:                             402.6\n",
            "Df Residuals:                      54   BIC:                             412.9\n",
            "Df Model:                           4                                         \n",
            "Covariance Type:            nonrobust                                         \n",
            "==============================================================================\n",
            "                 coef    std err          t      P>|t|      [0.025      0.975]\n",
            "------------------------------------------------------------------------------\n",
            "Intercept     40.7741      5.946      6.858      0.000      28.854      52.695\n",
            "daytype       15.5420      1.259     12.346      0.000      13.018      18.066\n",
            "temp          -1.0083      0.217     -4.644      0.000      -1.444      -0.573\n",
            "sola          -7.0917      2.211     -3.207      0.002     -11.525      -2.659\n",
            "humid         -0.2532      0.082     -3.081      0.003      -0.418      -0.088\n",
            "==============================================================================\n",
            "Omnibus:                        2.681   Durbin-Watson:                   1.279\n",
            "Prob(Omnibus):                  0.262   Jarque-Bera (JB):                1.550\n",
            "Skew:                          -0.059   Prob(JB):                        0.461\n",
            "Kurtosis:                       2.215   Cond. No.                         329.\n",
            "==============================================================================\n",
            "\n",
            "Notes:\n",
            "[1] Standard Errors assume that the covariance matrix of the errors is correctly specified.\n"
          ]
        }
      ]
    }
  ]
}